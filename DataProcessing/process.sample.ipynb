{
 "cells": [
  {
   "cell_type": "code",
   "execution_count": 1,
   "id": "9b8eae46",
   "metadata": {
    "tags": []
   },
   "outputs": [],
   "source": [
    "# CLRImports is required to handle Lean C# objects for Mapped Datasets (Single asset and Universe Selection)\n",
    "# Requirements:\n",
    "# python -m pip install clr-loader==0.1.7\n",
    "# python -m pip install pythonnet==3.0.0a2\n",
    "# This script must be executed in ./bin/Debug/net6.0 after the follwing command is executed\n",
    "# dotnet build .\\DataProcessing\\\n",
    "import os\n",
    "from CLRImports import *\n",
    "\n",
    "# To use QuantBook, we need to set its internal handlers\n",
    "# We download LEAN confif with the default settings \n",
    "with open(\"quantbook.json\", 'w') as fp:\n",
    "    from requests import get\n",
    "    response = get(\"https://raw.githubusercontent.com/QuantConnect/Lean/master/Launcher/config.json\")\n",
    "    fp.write(response.text)\n",
    "\n",
    "Config.SetConfigurationFile(\"quantbook.json\")\n",
    "Config.Set(\"composer-dll-directory\", os.path.abspath(''))\n",
    "\n",
    "# Set the data folder\n",
    "Config.Set(\"data-folder\", '<path-to-data-folder>')"
   ]
  },
  {
   "cell_type": "code",
   "execution_count": null,
   "id": "6ddc2ed2-5690-422c-8c91-6e6f64dd45cb",
   "metadata": {
    "tags": []
   },
   "outputs": [],
   "source": [
    "# To generate the Security Identifier, we need to create and initialize the Map File Provider\n",
    "# and call the SecurityIdentifier.GenerateEquity method\n",
    "mapFileProvider = LocalZipMapFileProvider()\n",
    "mapFileProvider.Initialize(DefaultDataProvider())\n",
    "sid = SecurityIdentifier.GenerateEquity(\"SPY\", Market.USA, True, mapFileProvider, datetime(2022, 3, 1))\n",
    "\n",
    "qb = QuantBook()\n",
    "symbol = Symbol(sid, \"SPY\")\n",
    "history = qb.History(symbol, 3600, Resolution.Daily)\n",
    "print(history)"
   ]
  }
 ],
 "metadata": {
  "kernelspec": {
   "display_name": "Python 3 (ipykernel)",
   "language": "python",
   "name": "python3"
  },
  "language_info": {
   "codemirror_mode": {
    "name": "ipython",
    "version": 3
   },
   "file_extension": ".py",
   "mimetype": "text/x-python",
   "name": "python",
   "nbconvert_exporter": "python",
   "pygments_lexer": "ipython3",
   "version": "3.8.13"
  }
 },
 "nbformat": 4,
 "nbformat_minor": 5
}
